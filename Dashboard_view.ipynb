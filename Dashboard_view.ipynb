{
 "cells": [
  {
   "cell_type": "markdown",
   "metadata": {
    "extensions": {
     "jupyter_dashboards": {
      "version": 1,
      "views": {
       "grid_default": {},
       "report_default": {
        "hidden": false
       }
      }
     }
    }
   },
   "source": [
    "# <div style=\"text-align: center\">HROS Production Runtimes Dashboard</div>"
   ]
  },
  {
   "cell_type": "code",
   "execution_count": 1,
   "metadata": {
    "extensions": {
     "jupyter_dashboards": {
      "version": 1,
      "views": {
       "grid_default": {},
       "report_default": {
        "hidden": false
       }
      }
     }
    }
   },
   "outputs": [],
   "source": [
    "# !pip install pandas\n",
    "\n",
    "# !pip install numpy\n",
    "\n",
    "# !pip install ipywidgets\n",
    "# !jupyter nbextension enable --py widgetsnbextension\n",
    "\n",
    "# !pip install plotly\n",
    "\n",
    "# !pip install jupyter_dashboards\n",
    "# !jupyter nbextension install --py jupyter_dashboards --sys-prefix\n",
    "# !jupyter nbextension enable --py jupyter_dashboards --sys-prefix\n",
    "# !pip install termcolor"
   ]
  },
  {
   "cell_type": "code",
   "execution_count": 2,
   "metadata": {
    "extensions": {
     "jupyter_dashboards": {
      "version": 1,
      "views": {
       "grid_default": {},
       "report_default": {
        "hidden": true
       }
      }
     }
    }
   },
   "outputs": [],
   "source": [
    "import pandas as pd\n",
    "import numpy as np\n",
    "from ipywidgets import interact\n",
    "from IPython.display import display\n",
    "import plotly.graph_objects as go\n",
    "import ipywidgets as widgets\n",
    "import datetime\n",
    "import warnings\n",
    "warnings.filterwarnings(\"ignore\")\n",
    "from datetime import date, timedelta\n",
    "import plotly.express as px\n",
    "from plotly.subplots import make_subplots\n",
    "#import chart_studio.plotly as py\n",
    "from termcolor import colored,cprint\n",
    "\n",
    "#location = \"C:\\\\Users\\\\Shubham.k\\\\Downloads\\\\RDP DI - Dashboard\""
   ]
  },
  {
   "cell_type": "code",
   "execution_count": 3,
   "metadata": {
    "extensions": {
     "jupyter_dashboards": {
      "version": 1,
      "views": {
       "grid_default": {},
       "report_default": {
        "hidden": true
       }
      }
     }
    }
   },
   "outputs": [],
   "source": [
    "df1 = pd.read_excel('test_2.xlsx') # Overall level data\n",
    "df2 = pd.read_excel('test.xlsx') # daily level data"
   ]
  },
  {
   "cell_type": "code",
   "execution_count": 4,
   "metadata": {
    "extensions": {
     "jupyter_dashboards": {
      "version": 1,
      "views": {
       "grid_default": {},
       "report_default": {
        "hidden": false
       }
      }
     }
    }
   },
   "outputs": [],
   "source": [
    "df_cleaned = df1[df1['Activation']<'2020-01-23']\n",
    "\n",
    "Last_refresh_dt = max(pd.to_datetime(df2['End']))"
   ]
  },
  {
   "cell_type": "code",
   "execution_count": 5,
   "metadata": {
    "extensions": {
     "jupyter_dashboards": {
      "version": 1,
      "views": {
       "grid_default": {},
       "report_default": {
        "hidden": true
       }
      }
     }
    }
   },
   "outputs": [],
   "source": [
    "df_cleaned['Activation'] = pd.to_datetime(df_cleaned['Activation']).dt.strftime('%d-%b-%y')\n",
    "df_cleaned['Start time'] = pd.to_datetime(df_cleaned['Start time'])\n",
    "df_cleaned['End'] = pd.to_datetime(df_cleaned['End'])"
   ]
  },
  {
   "cell_type": "code",
   "execution_count": 6,
   "metadata": {
    "extensions": {
     "jupyter_dashboards": {
      "version": 1,
      "views": {
       "grid_default": {},
       "report_default": {
        "hidden": true
       }
      }
     }
    }
   },
   "outputs": [],
   "source": [
    "df_cleaned.reset_index(inplace=True)"
   ]
  },
  {
   "cell_type": "code",
   "execution_count": 7,
   "metadata": {
    "extensions": {
     "jupyter_dashboards": {
      "version": 1,
      "views": {
       "grid_default": {},
       "report_default": {
        "hidden": true
       }
      }
     }
    }
   },
   "outputs": [],
   "source": [
    "def convert(seconds,flag):\n",
    "    if flag == 0:\n",
    "        seconds = seconds % (24 * 3600) \n",
    "        hour = seconds // 3600\n",
    "        seconds %= 3600\n",
    "        minutes = seconds // 60\n",
    "        seconds %= 60\n",
    "        return \"%02d.%02d\" % (hour, minutes)\n",
    "    elif flag == 1:\n",
    "        return \"%02d:%02d\" % (hour, minutes)"
   ]
  },
  {
   "cell_type": "code",
   "execution_count": 8,
   "metadata": {
    "extensions": {
     "jupyter_dashboards": {
      "version": 1,
      "views": {
       "grid_default": {},
       "report_default": {
        "hidden": true
       }
      }
     }
    }
   },
   "outputs": [],
   "source": [
    "df_cleaned['start_time'] = df_cleaned['Start time'].dt.date\n",
    "#df1['end_time'] = df1['End'].dt.date\n",
    "l = list()\n",
    "\n",
    "for i in range(len(df_cleaned)):\n",
    "    s = str(df_cleaned['start_time'][i]) + \" 00:00:00\"\n",
    "    l.append(s)\n",
    "\n",
    "df_cleaned['start_time'] = l\n",
    "df_cleaned['start_time'] = pd.to_datetime(df_cleaned['start_time'])\n",
    "\n",
    "\n",
    "df_cleaned['end_time'] = df_cleaned['End'].dt.date\n",
    "#df1['end_time'] = df1['End'].dt.date\n",
    "l = list()\n",
    "\n",
    "for i in range(len(df_cleaned)):\n",
    "    s = str(df_cleaned['end_time'][i]) + \" 00:00:00\"\n",
    "    l.append(s)\n",
    "\n",
    "df_cleaned['end_time'] = l\n",
    "df_cleaned['end_time'] = pd.to_datetime(df_cleaned['end_time'])"
   ]
  },
  {
   "cell_type": "code",
   "execution_count": 9,
   "metadata": {
    "extensions": {
     "jupyter_dashboards": {
      "version": 1,
      "views": {
       "grid_default": {},
       "report_default": {
        "hidden": true
       }
      }
     }
    }
   },
   "outputs": [],
   "source": [
    "l = list()\n",
    "\n",
    "for i in range(len(df_cleaned)):\n",
    "    t = convert(pd.Timedelta(df_cleaned['Start time'][i] - df_cleaned['start_time'][i]).seconds,0)\n",
    "    l.append(float(t))\n",
    "    \n",
    "df_cleaned['start_td'] = l\n",
    "df_cleaned['start_td'] = df_cleaned['start_td'].round(2)\n",
    "\n",
    "###############################################################################################\n",
    "\n",
    "l = list()\n",
    "\n",
    "for i in range(len(df_cleaned)):\n",
    "    t = convert(pd.Timedelta(df_cleaned['End'][i] - df_cleaned['end_time'][i]).seconds,0)\n",
    "    l.append(float(t))\n",
    "    \n",
    "df_cleaned['end_td'] = l\n",
    "df_cleaned['end_td'] = df_cleaned['end_td'].round(2)"
   ]
  },
  {
   "cell_type": "code",
   "execution_count": 10,
   "metadata": {
    "extensions": {
     "jupyter_dashboards": {
      "version": 1,
      "views": {
       "grid_default": {},
       "report_default": {
        "hidden": true
       }
      }
     }
    }
   },
   "outputs": [],
   "source": [
    "l1 = list()\n",
    "l2 = list()\n",
    "\n",
    "for i in range(len(df_cleaned)):\n",
    "    t1 = convert(pd.Timedelta(df_cleaned['End'][i] - df_cleaned['Start time'][i]).seconds,0)\n",
    "    t2 = pd.Timedelta(df_cleaned['End'][i] - df_cleaned['Start time'][i]).seconds\n",
    "    l1.append(t1)\n",
    "    l2.append(t2)\n",
    "    \n",
    "df_cleaned['time_diff'] = l1\n",
    "df_cleaned['time_diff_cal'] = l2\n",
    "df_cleaned['time_diff_cal'] = df_cleaned['time_diff_cal'].round(2)"
   ]
  },
  {
   "cell_type": "code",
   "execution_count": 11,
   "metadata": {
    "extensions": {
     "jupyter_dashboards": {
      "version": 1,
      "views": {
       "grid_default": {},
       "report_default": {
        "hidden": true
       }
      }
     }
    }
   },
   "outputs": [],
   "source": [
    "df_cleaned = df_cleaned[['Activation','Start time','End','start_td','end_td','time_diff','time_diff_cal']]"
   ]
  },
  {
   "cell_type": "code",
   "execution_count": 12,
   "metadata": {
    "extensions": {
     "jupyter_dashboards": {
      "version": 1,
      "views": {
       "grid_default": {},
       "report_default": {
        "hidden": false
       }
      }
     }
    }
   },
   "outputs": [
    {
     "name": "stdout",
     "output_type": "stream",
     "text": [
      "\u001b[1m                                                                        Last Refresh Datetime : \u001b[0m\u001b[1m\u001b[34m2020-02-11 05:37:37\u001b[0m\n"
     ]
    }
   ],
   "source": [
    "print (colored('                                                                        Last Refresh Datetime : ',attrs=['bold'])+colored(Last_refresh_dt, 'blue',attrs=['bold']))"
   ]
  },
  {
   "cell_type": "code",
   "execution_count": 13,
   "metadata": {
    "extensions": {
     "jupyter_dashboards": {
      "version": 1,
      "views": {
       "grid_default": {},
       "report_default": {
        "hidden": true
       }
      }
     }
    }
   },
   "outputs": [],
   "source": [
    "def graph1(df_n):\n",
    "    df_n['Activation'] = df_n['Activation'].astype('datetime64')\n",
    "    df_n.sort_values(by= 'Activation',inplace=True,ascending=True)\n",
    "    fig = go.Figure()\n",
    "    fig.add_trace(go.Scatter(\n",
    "        x=df_n['Activation'], y=df_n['time_diff'],\n",
    "        line=dict(width=2.0, color='rgb(131, 90, 241)'),#rgb(255, 127, 14)\n",
    "        name = 'Runtime',\n",
    "        mode='lines+markers'\n",
    "        ))\n",
    "         \n",
    "    fig.add_trace(go.Scatter(\n",
    "        x=df_n['Activation'], y=df_n['avg_line'],\n",
    "        line=dict(width=2.0, color='rgb(34, 178, 159)',dash='dot'),#rgb(255, 127, 14)\n",
    "        name = 'Avg. Runtime',\n",
    "        mode='lines'\n",
    "        )),\n",
    "\n",
    "    fig.update_layout(\n",
    "    xaxis_title=\"Load Date\",\n",
    "    yaxis_title=\"Runtime (in hr.min)\",\n",
    "    \n",
    "    titlefont=dict(\n",
    "        size=20\n",
    "        ),\n",
    "        title={\n",
    "        'text': \"Daily Trend of Production Jobs Runtime\",\n",
    "        'y':0.9,\n",
    "        'x':0.5,\n",
    "        'xanchor': 'center',\n",
    "        'yanchor': 'top'},\n",
    "         xaxis=dict(showticklabels=True, automargin=True)\n",
    "    )\n",
    "    fig.show()"
   ]
  },
  {
   "cell_type": "code",
   "execution_count": 14,
   "metadata": {
    "extensions": {
     "jupyter_dashboards": {
      "version": 1,
      "views": {
       "grid_default": {},
       "report_default": {
        "hidden": false
       }
      }
     }
    }
   },
   "outputs": [
    {
     "data": {
      "application/vnd.jupyter.widget-view+json": {
       "model_id": "2bfe702790214ecdbf4995a8a609a5c1",
       "version_major": 2,
       "version_minor": 0
      },
      "text/plain": [
       "interactive(children=(Dropdown(description='Date_Range', options=('Last 4 Week', 'Last 3 Week', 'Last 2 Week',…"
      ]
     },
     "metadata": {},
     "output_type": "display_data"
    }
   ],
   "source": [
    "def plot1(Date_Range):\n",
    "    df_n = pd.DataFrame()\n",
    "    if (Date_Range == 'Last 1 Week'):\n",
    "        df_n=df_cleaned[df_cleaned['Start time']>np.max(df_cleaned['Start time'])-timedelta(7)]\n",
    "        df_n['avg_line'] = convert(df_n['time_diff_cal'].mean(),0)\n",
    "        graph1(df_n)\n",
    "    elif(Date_Range == 'Last 2 Week'):    \n",
    "        df_n=df_cleaned[df_cleaned['Start time']>np.max(df_cleaned['Start time'])-timedelta(14)]\n",
    "        df_n['avg_line'] = convert(df_n['time_diff_cal'].mean(),0)\n",
    "        graph1(df_n)\n",
    "    elif(Date_Range == 'Last 3 Week'):\n",
    "        df_n=df_cleaned[df_cleaned['Start time']>np.max(df_cleaned['Start time'])-timedelta(21)]\n",
    "        df_n['avg_line'] = convert(df_n['time_diff_cal'].mean(),0)\n",
    "        graph1(df_n)\n",
    "    elif(Date_Range == 'Last 4 Week'):\n",
    "        df_n=df_cleaned[df_cleaned['Start time']>np.max(df_cleaned['Start time'])-timedelta(28)]\n",
    "        df_n['avg_line'] = convert(df_n['time_diff_cal'].mean(),0)\n",
    "        graph1(df_n)\n",
    "\n",
    "        \n",
    "widgets.interact(plot1,Date_Range=['Last 4 Week','Last 3 Week','Last 2 Week','Last 1 Week']);"
   ]
  },
  {
   "cell_type": "code",
   "execution_count": 15,
   "metadata": {
    "extensions": {
     "jupyter_dashboards": {
      "version": 1,
      "views": {
       "grid_default": {},
       "report_default": {
        "hidden": false
       }
      }
     }
    }
   },
   "outputs": [],
   "source": [
    "# Production Jobs Trigger (Weekly)"
   ]
  },
  {
   "cell_type": "code",
   "execution_count": 16,
   "metadata": {
    "extensions": {
     "jupyter_dashboards": {
      "version": 1,
      "views": {
       "grid_default": {},
       "report_default": {
        "hidden": true
       }
      }
     }
    },
    "scrolled": true
   },
   "outputs": [],
   "source": [
    "df3 = pd.read_excel(location + '\\\\Cleaned_data.xlsx')\n",
    "df3 = df3[df3['trigger']!='other'].reset_index()\n",
    "df3['Activation_x'] = pd.to_datetime(df3['Activation_x']).dt.strftime('%d-%b-%y')\n",
    "df3['Start time_x'] = pd.to_datetime(df3['Start time_x'])\n",
    "df3['End_x'] = pd.to_datetime(df3['End_x'])"
   ]
  },
  {
   "cell_type": "code",
   "execution_count": 17,
   "metadata": {
    "extensions": {
     "jupyter_dashboards": {
      "version": 1,
      "views": {
       "grid_default": {},
       "report_default": {
        "hidden": true
       }
      }
     }
    }
   },
   "outputs": [],
   "source": [
    "df_cleaned3 = df3.groupby(['trigger','Activation_x']).agg({'Start time_x': 'min', 'End_x': 'max'}).reset_index()\n",
    "#df_cleaned3= df3.groupby(['Activation_y','trigger','Start time_y','End_y'])['TableName'].count().reset_index(name='count')"
   ]
  },
  {
   "cell_type": "code",
   "execution_count": 18,
   "metadata": {
    "extensions": {
     "jupyter_dashboards": {
      "version": 1,
      "views": {
       "grid_default": {},
       "report_default": {
        "hidden": true
       }
      }
     }
    }
   },
   "outputs": [],
   "source": [
    "l1 = list()\n",
    "l2 = list()\n",
    "\n",
    "for i in range(len(df_cleaned3)):\n",
    "    t1 = convert(pd.Timedelta(df_cleaned3['End_x'][i] - df_cleaned3['Start time_x'][i]).seconds,0)\n",
    "    t2 = pd.Timedelta(df_cleaned3['End_x'][i] - df_cleaned3['Start time_x'][i]).seconds\n",
    "    l1.append(t1)\n",
    "    l2.append(t2)\n",
    "    \n",
    "df_cleaned3['time_diff'] = l1\n",
    "df_cleaned3['time_diff_cal'] = l2\n",
    "df_cleaned3['time_diff_cal'] = df_cleaned3['time_diff_cal'].round(2)\n"
   ]
  },
  {
   "cell_type": "markdown",
   "metadata": {
    "extensions": {
     "jupyter_dashboards": {
      "version": 1,
      "views": {
       "grid_default": {},
       "report_default": {
        "hidden": false
       }
      }
     }
    }
   },
   "source": [
    "# <div style=\"text-align: center\"> II. Trigger Level Runtimes </div>"
   ]
  },
  {
   "cell_type": "code",
   "execution_count": 19,
   "metadata": {
    "extensions": {
     "jupyter_dashboards": {
      "version": 1,
      "views": {
       "grid_default": {},
       "report_default": {
        "hidden": false
       }
      }
     }
    }
   },
   "outputs": [],
   "source": [
    "def graph2(df_cleaned3):\n",
    "    fig = make_subplots(rows=4,\n",
    "                    cols=1,\n",
    "                    y_title='Run Time (in hr.min)',\n",
    "                    subplot_titles=('Trigger 1 Daily Runtimes',  'Trigger 2 Daily Runtimes', \n",
    "                                    'Trigger 3 Daily Runtimes', 'Trigger 4 Daily Runtimes'))\n",
    "\n",
    "   \n",
    "    df_cleaned3['Activation_x'] = df_cleaned3['Activation_x'].astype('datetime64')\n",
    "    br1 = df_cleaned3[df_cleaned3['trigger']=='trigger1'].reset_index()\n",
    "    br1['avg_line'] = convert(br1['time_diff_cal'].mean(),0)\n",
    "    br1.sort_values(by= 'Activation_x',inplace=True,ascending=True)\n",
    "\n",
    "    fig.add_trace(go.Scatter(\n",
    "        x=br1['Activation_x'], y=br1['time_diff'],\n",
    "        line=dict(width=2.0, color='rgb(15, 89, 146)'),\n",
    "        name = 'Exec Time',\n",
    "        mode='lines+markers'\n",
    "        ), row=1, col=1),\n",
    "    fig.add_trace(go.Scatter(\n",
    "        x=br1['Activation_x'], y=br1['avg_line'],\n",
    "        line=dict(width=2.0, color='rgb(34, 178, 159)',dash='dot'),\n",
    "         name = 'Avg. Exec Time',\n",
    "        mode='lines+markers'\n",
    "        ), row=1, col=1),\n",
    "\n",
    "    \n",
    "\n",
    "    br2 = df_cleaned3[df_cleaned3['trigger']=='trigger2'].reset_index()\n",
    "    br2['avg_line'] = convert(br2['time_diff_cal'].mean(),0)\n",
    "    br2.sort_values(by= 'Activation_x',inplace=True,ascending=True)\n",
    "\n",
    "    fig.add_trace(go.Scatter(\n",
    "        x=br2['Activation_x'], y=br2['time_diff'],\n",
    "        line=dict(width=2.0, color='rgb(38, 127, 195)'),\n",
    "#         name = 'T2 Exec Time',\n",
    "        mode='lines+markers'\n",
    "        ), row=2, col=1),\n",
    "    fig.add_trace(go.Scatter(\n",
    "        x=br2['Activation_x'], y=br2['avg_line'],\n",
    "        line=dict(width=2.0, color='rgb(34, 178, 159)',dash='dot'),\n",
    "#         name = 'Avg. T2 Exec Time',\n",
    "        mode='lines+markers'\n",
    "        ), row=2, col=1),    \n",
    "\n",
    "\n",
    "\n",
    "    br3 = df_cleaned3[df_cleaned3['trigger']=='trigger3'].reset_index()\n",
    "    br3['avg_line'] = convert(br3['time_diff_cal'].mean(),0)\n",
    "    br3.sort_values(by= 'Activation_x',inplace=True,ascending=True)\n",
    "\n",
    "    fig.add_trace(go.Scatter(\n",
    "        x=br3['Activation_x'], y=br3['time_diff'],\n",
    "        line=dict(width=2.0, color='rgb(93, 167, 223)'),\n",
    "#         name = 'T3 Exec Time',\n",
    "        mode='lines+markers'\n",
    "        ), row=3, col=1),\n",
    "    fig.add_trace(go.Scatter(\n",
    "        x=br3['Activation_x'], y=br3['avg_line'],\n",
    "        line=dict(width=2.0, color='rgb(34, 178, 159)',dash='dot'),\n",
    "#         name = 'Avg. T3 Exec Time',\n",
    "        mode='lines+markers'\n",
    "        ), row=3, col=1),    \n",
    "\n",
    "    br4 = df_cleaned3[df_cleaned3['trigger']=='trigger4'].reset_index()\n",
    "    br4['avg_line'] = convert(br4['time_diff_cal'].mean(),0)\n",
    "    br4.sort_values(by= 'Activation_x',inplace=True,ascending=True)\n",
    "\n",
    "    fig.add_trace(go.Scatter(\n",
    "        x=br4['Activation_x'],y=br4['time_diff'],\n",
    "        line=dict(width=2.0, color='rgb(116, 187, 242)'),\n",
    "        name = 'Runtime',\n",
    "        mode='lines+markers'\n",
    "        ), row=4, col=1),\n",
    "    fig.add_trace(go.Scatter(\n",
    "        x=br4['Activation_x'], y=br4['avg_line'],\n",
    "        line=dict(width=2.0, color='rgb(34, 178, 159)',dash='dot'),\n",
    "        name = 'Avg. Runtime',\n",
    "        mode='lines+markers'\n",
    "        ), row=4, col=1),    \n",
    "    fig.update_layout(\n",
    "    height=900, width=1000,showlegend=False\n",
    "    )\n",
    "    fig.show()"
   ]
  },
  {
   "cell_type": "code",
   "execution_count": 20,
   "metadata": {
    "extensions": {
     "jupyter_dashboards": {
      "version": 1,
      "views": {
       "grid_default": {},
       "report_default": {
        "hidden": false
       }
      }
     }
    }
   },
   "outputs": [
    {
     "data": {
      "application/vnd.jupyter.widget-view+json": {
       "model_id": "679b49c9144849549761592a103fc321",
       "version_major": 2,
       "version_minor": 0
      },
      "text/plain": [
       "interactive(children=(Dropdown(description='Date_Range', options=('Last 4 Week', 'Last 3 Week', 'Last 2 Week',…"
      ]
     },
     "metadata": {},
     "output_type": "display_data"
    }
   ],
   "source": [
    "def plot2(Date_Range):\n",
    "    df_n = pd.DataFrame()\n",
    "    if (Date_Range == 'Last 1 Week'):\n",
    "        df_n=df_cleaned3[df_cleaned3['Start time_x']>np.max(df_cleaned3['Start time_x'])-timedelta(7)]  \n",
    "        graph2(df_n)\n",
    "    elif(Date_Range == 'Last 2 Week'):    \n",
    "        df_n=df_cleaned3[df_cleaned3['Start time_x']>np.max(df_cleaned3['Start time_x'])-timedelta(14)]\n",
    "        graph2(df_n)\n",
    "    elif(Date_Range == 'Last 3 Week'):\n",
    "        df_n=df_cleaned3[df_cleaned3['Start time_x']>np.max(df_cleaned3['Start time_x'])-timedelta(21)]\n",
    "        graph2(df_n)\n",
    "    elif(Date_Range == 'Last 4 Week'):\n",
    "        df_n=df_cleaned3[df_cleaned3['Start time_x']>np.max(df_cleaned3['Start time_x'])-timedelta(28)]\n",
    "        graph2(df_n)\n",
    "\n",
    "        \n",
    "widgets.interact(plot2,Date_Range=['Last 4 Week','Last 3 Week','Last 2 Week','Last 1 Week']);"
   ]
  },
  {
   "cell_type": "code",
   "execution_count": 21,
   "metadata": {
    "extensions": {
     "jupyter_dashboards": {
      "version": 1,
      "views": {
       "grid_default": {},
       "report_default": {
        "hidden": true
       }
      }
     }
    }
   },
   "outputs": [],
   "source": [
    "l = list()\n",
    "\n",
    "for i in range(len(df3)):\n",
    "    t = pd.Timedelta(df3['End_x'][i] - df3['Start time_x'][i]).seconds/60\n",
    "    l.append(t)\n",
    "    \n",
    "df3['time_diff'] = l\n",
    "df3['time_diff'] = df3['time_diff'].round(0)        "
   ]
  },
  {
   "cell_type": "code",
   "execution_count": 22,
   "metadata": {
    "extensions": {
     "jupyter_dashboards": {
      "version": 1,
      "views": {
       "grid_default": {},
       "report_default": {
        "hidden": true
       }
      }
     }
    }
   },
   "outputs": [],
   "source": [
    "df_grouped = df3.groupby(['Activation_x','TableName','trigger']).agg({'time_diff':'sum'}).reset_index()#[['trigger','TableName','Activation_x','time_diff']]\n",
    "df_grouped['Activation_x'] = pd.to_datetime(df_grouped['Activation_x'])"
   ]
  },
  {
   "cell_type": "markdown",
   "metadata": {
    "extensions": {
     "jupyter_dashboards": {
      "version": 1,
      "views": {
       "grid_default": {},
       "report_default": {
        "hidden": false
       }
      }
     }
    }
   },
   "source": [
    "# <div style=\"text-align: center\">III. Trigger level Deep Dives</div>"
   ]
  },
  {
   "cell_type": "code",
   "execution_count": 23,
   "metadata": {
    "extensions": {
     "jupyter_dashboards": {
      "version": 1,
      "views": {
       "grid_default": {},
       "report_default": {
        "hidden": false
       }
      }
     }
    }
   },
   "outputs": [
    {
     "data": {
      "application/vnd.jupyter.widget-view+json": {
       "model_id": "4acbf8a6ad3d47c2b540fd826d40dee9",
       "version_major": 2,
       "version_minor": 0
      },
      "text/plain": [
       "DatePicker(value=None, description='Select Date')"
      ]
     },
     "metadata": {},
     "output_type": "display_data"
    }
   ],
   "source": [
    "global date_filter\n",
    "date_filter=widgets.DatePicker(description='Select Date');\n",
    "display(date_filter)"
   ]
  },
  {
   "cell_type": "code",
   "execution_count": 24,
   "metadata": {
    "extensions": {
     "jupyter_dashboards": {
      "version": 1,
      "views": {
       "grid_default": {},
       "report_default": {
        "hidden": false
       }
      }
     }
    }
   },
   "outputs": [],
   "source": [
    "#df_grouped = df_grouped[df_grouped['Activation_x']==start_date_widget.value]\n",
    "df_grouped =  df_grouped.rename(columns={\"time_diff\": \"Execution Time\", \"Name_x\": \"Job Name\"})"
   ]
  },
  {
   "cell_type": "code",
   "execution_count": 25,
   "metadata": {
    "extensions": {
     "jupyter_dashboards": {
      "version": 1,
      "views": {
       "grid_default": {},
       "report_default": {
        "hidden": true
       }
      }
     }
    }
   },
   "outputs": [],
   "source": [
    "def graph3(df_n):\n",
    "    df_n = df_n.sort_values(by='Execution Time',ascending = False).head(6)\n",
    "    fig = px.bar(df_n, x='TableName', y='Execution Time',height = 500,width = 950)\n",
    "    fig.show()"
   ]
  },
  {
   "cell_type": "code",
   "execution_count": 26,
   "metadata": {
    "extensions": {
     "jupyter_dashboards": {
      "version": 1,
      "views": {
       "grid_default": {},
       "report_default": {
        "hidden": false
       }
      }
     }
    }
   },
   "outputs": [
    {
     "data": {
      "application/vnd.jupyter.widget-view+json": {
       "model_id": "8b381b3aa75c4254ab9c6edb702fa302",
       "version_major": 2,
       "version_minor": 0
      },
      "text/plain": [
       "interactive(children=(Dropdown(description='Trigger', options=('Trigger 1', 'Trigger 2', 'Trigger 3', 'Trigger…"
      ]
     },
     "metadata": {},
     "output_type": "display_data"
    }
   ],
   "source": [
    "def plot3(Trigger):\n",
    "    df_n = pd.DataFrame()\n",
    "    if (Trigger == 'Trigger 1'):\n",
    "        df_n=df_grouped[(df_grouped['trigger'] == 'trigger1')]\n",
    "        df_n = df_n[df_n['Activation_x'] == date_filter.value] \n",
    "        #print(df_n)\n",
    "        graph3(df_n)\n",
    "    elif(Trigger == 'Trigger 2'):    \n",
    "        df_n=df_grouped[df_grouped['trigger'] == 'trigger2']\n",
    "        df_n = df_n[df_n['Activation_x'] == date_filter.value]  \n",
    "        graph3(df_n)\n",
    "    elif(Trigger == 'Trigger 3'):\n",
    "        df_n=df_grouped[df_grouped['trigger'] == 'trigger3']   \n",
    "        df_n = df_n[df_n['Activation_x'] == date_filter.value]  \n",
    "        graph3(df_n)\n",
    "    elif(Trigger == 'Trigger 4'):\n",
    "        df_n=df_grouped[df_grouped['trigger'] == 'trigger4']\n",
    "        df_n = df_n[df_n['Activation_x'] == date_filter.value]  \n",
    "        graph3(df_n)\n",
    "\n",
    "        \n",
    "widgets.interact(plot3,Trigger=['Trigger 1','Trigger 2','Trigger 3','Trigger 4']);"
   ]
  },
  {
   "cell_type": "markdown",
   "metadata": {
    "extensions": {
     "jupyter_dashboards": {
      "version": 1,
      "views": {
       "grid_default": {},
       "report_default": {
        "hidden": false
       }
      }
     }
    }
   },
   "source": [
    "# <div style=\"text-align: center\">IV. Availability Trend of HROS Data</div>"
   ]
  },
  {
   "cell_type": "code",
   "execution_count": 27,
   "metadata": {
    "extensions": {
     "jupyter_dashboards": {
      "version": 1,
      "views": {
       "grid_default": {},
       "report_default": {
        "hidden": true
       }
      }
     }
    }
   },
   "outputs": [],
   "source": [
    "df_run = df1\n",
    "\n",
    "df_run['Activation'] = pd.to_datetime(df_run['Activation']).dt.strftime('%d-%b-%y')\n",
    "df_run['Start time'] = pd.to_datetime(df_run['Start time'])\n",
    "df_run['End'] = pd.to_datetime(df_run['End'])\n",
    "\n",
    "df_run.reset_index(inplace=True)\n",
    "\n",
    "df_run['start_time'] = df_run['Start time'].dt.date\n",
    "#df1['end_time'] = df1['End'].dt.date\n",
    "l = list()\n",
    "\n",
    "for i in range(len(df_run)):\n",
    "    s = str(df_run['start_time'][i]) + \" 00:00:00\"\n",
    "    l.append(s)\n",
    "\n",
    "df_run['start_time'] = l\n",
    "df_run['start_time'] = pd.to_datetime(df_run['start_time'])\n",
    "\n",
    "\n",
    "df_run['end_time'] = df_run['End'].dt.date\n",
    "#df1['end_time'] = df1['End'].dt.date\n",
    "l = list()\n",
    "\n",
    "for i in range(len(df_run)):\n",
    "    s = str(df_run['end_time'][i]) + \" 00:00:00\"\n",
    "    l.append(s)\n",
    "\n",
    "df_run['end_time'] = l\n",
    "df_run['end_time'] = pd.to_datetime(df_run['end_time'])\n",
    "\n",
    "\n",
    "l = list()\n",
    "\n",
    "for i in range(len(df_run)):\n",
    "    t = convert(pd.Timedelta(df_run['Start time'][i] - df_run['start_time'][i]).seconds,0)\n",
    "    l.append(float(t))\n",
    "    \n",
    "df_run['start_td'] = l\n",
    "df_run['start_td'] = df_run['start_td'].round(2)\n",
    "\n",
    "###############################################################################################\n",
    "\n",
    "l = list()\n",
    "\n",
    "for i in range(len(df_run)):\n",
    "    t = convert(pd.Timedelta(df_run['End'][i] - df_run['end_time'][i]).seconds,0)\n",
    "    l.append(float(t))\n",
    "    \n",
    "df_run['end_td'] = l\n",
    "df_run['end_td'] = df_run['end_td'].round(2)\n",
    "\n",
    "\n",
    "l1 = list()\n",
    "l2 = list()\n",
    "\n",
    "for i in range(len(df_run)):\n",
    "    t1 = convert(pd.Timedelta(df_run['End'][i] - df_run['Start time'][i]).seconds,0)\n",
    "    t2 = pd.Timedelta(df_run['End'][i] - df_run['Start time'][i]).seconds\n",
    "    l1.append(t1)\n",
    "    l2.append(t2)\n",
    "    \n",
    "df_run['time_diff'] = l1\n",
    "df_run['time_diff_cal'] = l2\n",
    "df_run['time_diff_cal'] = df_run['time_diff_cal'].round(2)\n",
    "\n",
    "\n",
    "df_run= df_run[['Activation','Start time','End','start_td','end_td','time_diff','time_diff_cal']]"
   ]
  },
  {
   "cell_type": "code",
   "execution_count": 28,
   "metadata": {
    "extensions": {
     "jupyter_dashboards": {
      "version": 1,
      "views": {
       "grid_default": {},
       "report_default": {
        "hidden": true
       }
      }
     }
    }
   },
   "outputs": [],
   "source": [
    "def graph6(df_run):\n",
    "    fig = go.Figure()\n",
    "    fig.add_trace(go.Scatter(\n",
    "        x=df_run['Activation'], y=df_run['end_td'],\n",
    "        line=dict(width=2.0, color='rgb(131, 90, 241)'),#rgb(255, 127, 14)\n",
    "        name = 'Daily Run Time',\n",
    "        mode='lines+markers'\n",
    "        ))\n",
    "    fig.update_layout(\n",
    "    xaxis_title=\"Load Date\",\n",
    "    yaxis_title=\"Job Completion Time (in hr.min)\",\n",
    "    \n",
    "     titlefont=dict(\n",
    "        size=20,\n",
    "        #color=\"#7f7f7f\",\n",
    "        ),\n",
    "        title={\n",
    "        'text': \"Daily Trend of Producton Jobs runtime\",\n",
    "        'y':0.9,\n",
    "        'x':0.5,\n",
    "        'xanchor': 'center',\n",
    "        'yanchor': 'top'},\n",
    "         xaxis=dict(showticklabels=True, automargin=True,autorange=\"reversed\")\n",
    "    )\n",
    "    fig.show()"
   ]
  },
  {
   "cell_type": "code",
   "execution_count": 29,
   "metadata": {
    "extensions": {
     "jupyter_dashboards": {
      "version": 1,
      "views": {
       "grid_default": {},
       "report_default": {
        "hidden": false
       }
      }
     }
    }
   },
   "outputs": [
    {
     "data": {
      "application/vnd.jupyter.widget-view+json": {
       "model_id": "a6b93d33ce384fa7acbd6b57b9bcde92",
       "version_major": 2,
       "version_minor": 0
      },
      "text/plain": [
       "interactive(children=(Dropdown(description='Date_Range', options=('Last 4 Week', 'Last 3 Week', 'Last 2 Week',…"
      ]
     },
     "metadata": {},
     "output_type": "display_data"
    }
   ],
   "source": [
    "def plot6(Date_Range):\n",
    "    df_n = pd.DataFrame()\n",
    "    if (Date_Range == 'Last 1 Week'):\n",
    "        df_n=df_run[df_run['Start time']>np.max(df_run['Start time'])-timedelta(7)]  \n",
    "        graph6(df_n)\n",
    "    elif(Date_Range == 'Last 2 Week'):    \n",
    "        df_n=df_run[df_run['Start time']>np.max(df_run['Start time'])-timedelta(14)]\n",
    "        graph6(df_n)\n",
    "    elif(Date_Range == 'Last 3 Week'):\n",
    "        df_n=df_run[df_run['Start time']>np.max(df_run['Start time'])-timedelta(21)]\n",
    "        graph6(df_n)\n",
    "    elif(Date_Range == 'Last 4 Week'):\n",
    "        df_n=df_run[df_run['Start time']>np.max(df_run['Start time'])-timedelta(28)]\n",
    "        graph6(df_n)\n",
    "\n",
    "        \n",
    "widgets.interact(plot6,Date_Range=['Last 4 Week','Last 3 Week','Last 2 Week','Last 1 Week']);"
   ]
  },
  {
   "cell_type": "code",
   "execution_count": 30,
   "metadata": {
    "extensions": {
     "jupyter_dashboards": {
      "version": 1,
      "views": {
       "grid_default": {},
       "report_default": {
        "hidden": false
       }
      }
     }
    }
   },
   "outputs": [],
   "source": [
    "df2['Activation'] = pd.to_datetime(df2['Activation']).dt.strftime('%Y-%m-%d')\n",
    "df_cleaned2 = df2"
   ]
  },
  {
   "cell_type": "code",
   "execution_count": 31,
   "metadata": {
    "extensions": {
     "jupyter_dashboards": {
      "version": 1,
      "views": {
       "grid_default": {},
       "report_default": {
        "hidden": true
       }
      }
     }
    }
   },
   "outputs": [],
   "source": [
    "df_cleaned2['Start time'] = pd.to_datetime(df_cleaned2['Start time'])\n",
    "df_cleaned2['End'] = pd.to_datetime(df_cleaned2['End'])\n",
    "df_cleaned2.reset_index(inplace=True)\n",
    "#df_cleaned2 = df_cleaned2.dropna(subset=['Start time']).reset_index()"
   ]
  },
  {
   "cell_type": "code",
   "execution_count": 32,
   "metadata": {
    "extensions": {
     "jupyter_dashboards": {
      "version": 1,
      "views": {
       "grid_default": {},
       "report_default": {
        "hidden": true
       }
      }
     }
    }
   },
   "outputs": [],
   "source": [
    "l = list()\n",
    "\n",
    "for i in range(len(df_cleaned2)):\n",
    "    t = pd.Timedelta(df_cleaned2['End'][i] - df_cleaned2['Start time'][i]).seconds/60\n",
    "    l.append(t)\n",
    "    \n",
    "df_cleaned2['time_diff'] = l\n",
    "df_cleaned2['time_diff'] = df_cleaned2['time_diff'].round(0)"
   ]
  },
  {
   "cell_type": "code",
   "execution_count": 33,
   "metadata": {
    "extensions": {
     "jupyter_dashboards": {
      "version": 1,
      "views": {
       "grid_default": {},
       "report_default": {
        "hidden": false
       }
      }
     }
    }
   },
   "outputs": [],
   "source": [
    "df_cleaned2 = df_cleaned2[['TableName','Activation','Start time','End','time_diff','Error_Flag','Runtime']]\n",
    "#df_cleaned2.head()"
   ]
  },
  {
   "cell_type": "code",
   "execution_count": 34,
   "metadata": {
    "extensions": {
     "jupyter_dashboards": {
      "version": 1,
      "views": {
       "grid_default": {},
       "report_default": {
        "hidden": true
       }
      }
     }
    }
   },
   "outputs": [],
   "source": [
    "df_cleaned2 = df_cleaned2[df_cleaned2['Error_Flag']==1]"
   ]
  },
  {
   "cell_type": "code",
   "execution_count": 35,
   "metadata": {
    "extensions": {
     "jupyter_dashboards": {
      "version": 1,
      "views": {
       "grid_default": {},
       "report_default": {
        "hidden": false
       }
      }
     }
    }
   },
   "outputs": [],
   "source": [
    "d1 = df_cleaned2.groupby(['TableName'])['TableName'].count().reset_index(name = 'Failure')\n",
    "d2 = df_cleaned2.groupby(['TableName'])['time_diff'].sum().reset_index(name = 'Total Time Taken')"
   ]
  },
  {
   "cell_type": "code",
   "execution_count": 36,
   "metadata": {
    "extensions": {
     "jupyter_dashboards": {
      "version": 1,
      "views": {
       "grid_default": {},
       "report_default": {
        "hidden": true
       }
      }
     }
    }
   },
   "outputs": [],
   "source": [
    "df_merged = pd.merge(d1,d2,on='TableName')"
   ]
  },
  {
   "cell_type": "markdown",
   "metadata": {
    "extensions": {
     "jupyter_dashboards": {
      "version": 1,
      "views": {
       "grid_default": {},
       "report_default": {
        "hidden": false
       }
      }
     }
    }
   },
   "source": [
    "# <div style=\"text-align: center\">V. View into Failed Jobs</div>"
   ]
  },
  {
   "cell_type": "code",
   "execution_count": 37,
   "metadata": {
    "extensions": {
     "jupyter_dashboards": {
      "version": 1,
      "views": {
       "grid_default": {},
       "report_default": {
        "hidden": true
       }
      }
     }
    }
   },
   "outputs": [],
   "source": [
    "def graph4(df_n):\n",
    "    fig = px.scatter(df_n, x=\"Total Time Taken\", y=\"Failure\",\n",
    "                  hover_name=\"TableName\",size=\"Failure\",\n",
    "                 color=\"TableName\",width= 1000,height = 400,\n",
    "                  size_max=30)\n",
    "    fig.update_layout(\n",
    "                      xaxis_title=\"Runtime(in mins.)\",\n",
    "                      yaxis_title=\"#Failures\",\n",
    "                   titlefont=dict(\n",
    "                        size=20\n",
    "                                  ),\n",
    "                      title={\n",
    "                          'text': \"Failed Jobs Summary\",\n",
    "                           'y':0.9,\n",
    "                           'x':0.5,\n",
    "                           'xanchor': 'center',\n",
    "                           'yanchor': 'top'},\n",
    "                      xaxis=dict(showticklabels=True, automargin=True)\n",
    "                      )\n",
    "    fig.show()"
   ]
  },
  {
   "cell_type": "code",
   "execution_count": 38,
   "metadata": {
    "extensions": {
     "jupyter_dashboards": {
      "version": 1,
      "views": {
       "grid_default": {},
       "report_default": {
        "hidden": false
       }
      }
     }
    },
    "scrolled": false
   },
   "outputs": [
    {
     "data": {
      "application/vnd.jupyter.widget-view+json": {
       "model_id": "4f392ec4a473469bb05251619f7b093a",
       "version_major": 2,
       "version_minor": 0
      },
      "text/plain": [
       "interactive(children=(Dropdown(description='Failure', options=('Failed less than 3', 'Failed less than 5', 'Fa…"
      ]
     },
     "metadata": {},
     "output_type": "display_data"
    }
   ],
   "source": [
    "def plot4(Failure):\n",
    "    df_n = pd.DataFrame()\n",
    "    if (Failure == 'Failed less than 3'):\n",
    "        df_n=df_merged[df_merged['Failure'] <3]   \n",
    "        graph4(df_n)\n",
    "    elif(Failure == 'Failed less than 5'):    \n",
    "        df_n=df_merged[(df_merged['Failure'] >= 3) & (df_merged['Failure'] < 5)]  \n",
    "        graph4(df_n)\n",
    "    elif(Failure == 'Failed greater than 5'):\n",
    "        df_n=df_merged[df_merged['Failure'] >= 5] \n",
    "        graph4(df_n) \n",
    "    else:\n",
    "        df_n = df_merged\n",
    "        graph4(df_n)\n",
    "        \n",
    "widgets.interact(plot4,Failure=['Failed less than 3','Failed less than 5','Failed greater than 5','All']);"
   ]
  },
  {
   "cell_type": "code",
   "execution_count": 39,
   "metadata": {
    "extensions": {
     "jupyter_dashboards": {
      "version": 1,
      "views": {
       "grid_default": {},
       "report_default": {
        "hidden": true
       }
      }
     }
    }
   },
   "outputs": [],
   "source": [
    "df_top_failed = df_merged.sort_values(by=\"Failure\",ascending=False)\n",
    "df_top_failed = df_top_failed[df_top_failed['Failure']>5]['TableName']"
   ]
  },
  {
   "cell_type": "code",
   "execution_count": 40,
   "metadata": {
    "extensions": {
     "jupyter_dashboards": {
      "version": 1,
      "views": {
       "grid_default": {},
       "report_default": {
        "hidden": true
       }
      }
     }
    }
   },
   "outputs": [],
   "source": [
    "df_top_failed = pd.merge(df_top_failed,df_cleaned2,on='TableName')"
   ]
  },
  {
   "cell_type": "code",
   "execution_count": 41,
   "metadata": {
    "extensions": {
     "jupyter_dashboards": {
      "version": 1,
      "views": {
       "grid_default": {},
       "report_default": {
        "hidden": true
       }
      }
     }
    }
   },
   "outputs": [],
   "source": [
    "df_top_failed.sort_values(by='time_diff',ascending=False,inplace=True)\n"
   ]
  },
  {
   "cell_type": "markdown",
   "metadata": {
    "extensions": {
     "jupyter_dashboards": {
      "version": 1,
      "views": {
       "grid_default": {},
       "report_default": {
        "hidden": false
       }
      }
     }
    }
   },
   "source": [
    "# <div style=\"text-align: center\">VI. Table Failed showing Date and Execution Time</div>"
   ]
  },
  {
   "cell_type": "code",
   "execution_count": 42,
   "metadata": {
    "extensions": {
     "jupyter_dashboards": {
      "version": 1,
      "views": {
       "grid_default": {},
       "report_default": {
        "hidden": true
       }
      }
     }
    }
   },
   "outputs": [],
   "source": [
    "def graph5(df):\n",
    "    fig = go.Figure(data=[go.Table(\n",
    "    header=dict(values=['Table Name', 'Start Time','End Time','Run Time(in min.)']),\n",
    "    cells=dict(values=[df['TableName'],df['Start time'].dt.strftime('%d-%b-%y %r'),df['End'].dt.strftime('%d-%b-%y %r'),df['time_diff'].round(0)], # 2nd column\n",
    "               line_color='darkslategray',\n",
    "               fill_color='lightcyan',\n",
    "               align='left'))\n",
    "    ])\n",
    "\n",
    "    fig.show()                      "
   ]
  },
  {
   "cell_type": "code",
   "execution_count": 43,
   "metadata": {
    "extensions": {
     "jupyter_dashboards": {
      "version": 1,
      "views": {
       "grid_default": {},
       "report_default": {
        "hidden": false
       }
      }
     }
    }
   },
   "outputs": [
    {
     "data": {
      "application/vnd.jupyter.widget-view+json": {
       "model_id": "a67a7886d689488c9d5ff4d262358598",
       "version_major": 2,
       "version_minor": 0
      },
      "text/plain": [
       "interactive(children=(Dropdown(description='Trigger', options=('Top 5', 'Top 10', 'Top 15'), value='Top 5'), O…"
      ]
     },
     "metadata": {},
     "output_type": "display_data"
    }
   ],
   "source": [
    "def plot5(Trigger):\n",
    "    df_n = pd.DataFrame()\n",
    "    if (Trigger == 'Top 5'):\n",
    "        df_n=df_top_failed.head(5)  \n",
    "        graph5(df_n)\n",
    "    elif(Trigger == 'Top 10'):    \n",
    "        df_n=df_top_failed.head(10)\n",
    "        graph5(df_n)\n",
    "    elif(Trigger == 'Top 15'):\n",
    "        df_n=df_top_failed.head(15)   \n",
    "        graph5(df_n)\n",
    "\n",
    "\n",
    "        \n",
    "widgets.interact(plot5,Trigger=['Top 5','Top 10','Top 15']);"
   ]
  }
 ],
 "metadata": {
  "extensions": {
   "jupyter_dashboards": {
    "activeView": "report_default",
    "version": 1,
    "views": {
     "grid_default": {
      "name": "grid",
      "type": "grid"
     },
     "report_default": {
      "name": "report",
      "type": "report"
     }
    }
   }
  },
  "kernelspec": {
   "display_name": "Python 3",
   "language": "python",
   "name": "python3"
  },
  "language_info": {
   "codemirror_mode": {
    "name": "ipython",
    "version": 3
   },
   "file_extension": ".py",
   "mimetype": "text/x-python",
   "name": "python",
   "nbconvert_exporter": "python",
   "pygments_lexer": "ipython3",
   "version": "3.7.4"
  }
 },
 "nbformat": 4,
 "nbformat_minor": 2
}
